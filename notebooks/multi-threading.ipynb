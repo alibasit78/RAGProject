{
 "cells": [
  {
   "cell_type": "code",
   "execution_count": 1,
   "metadata": {},
   "outputs": [
    {
     "name": "stdout",
     "output_type": "stream",
     "text": [
      "hello world\n"
     ]
    }
   ],
   "source": [
    "print(\"hello world\")"
   ]
  },
  {
   "cell_type": "code",
   "execution_count": 21,
   "metadata": {},
   "outputs": [],
   "source": [
    "import time\n",
    "from concurrent.futures import ThreadPoolExecutor, as_completed\n",
    "\n",
    "def fetch_books(user_id):\n",
    "    print(f\"Fetching books for user {user_id}\")\n",
    "    time.sleep(2)  # Simulating a delay\n",
    "    print(\"completed book fetch\")\n",
    "    return [\"Book1\", \"Book2\", \"Book3\"]\n",
    "\n",
    "def fetch_movies(user_id):\n",
    "    print(f\"Fetching movies for user {user_id}\")\n",
    "    time.sleep(2)  # Simulating a delay\n",
    "    print(\"completed movie fetch\")\n",
    "    return [\"Movie1\", \"Movie2\"]\n",
    "\n",
    "def fetch_songs(user_id):\n",
    "    print(f\"Fetching songs for user {user_id}\")\n",
    "    time.sleep(6)  # Simulating a delay\n",
    "    print(\"completed song fetch\")\n",
    "    return [\"Song1\", \"Song2\", \"Song3\"]\n"
   ]
  },
  {
   "cell_type": "code",
   "execution_count": 22,
   "metadata": {},
   "outputs": [],
   "source": [
    "def fetch_all_data(user_id):\n",
    "    with ThreadPoolExecutor() as executor:\n",
    "        future_to_query = {\n",
    "            executor.submit(fetch_books, user_id): \"books\",\n",
    "            executor.submit(fetch_movies, user_id): \"movies\",\n",
    "            executor.submit(fetch_songs, user_id): \"songs\",\n",
    "        }\n",
    "\n",
    "        results = {}\n",
    "        for future in as_completed(future_to_query):\n",
    "            print(f\"Processing future {future}\")\n",
    "            query_name = future_to_query[future]\n",
    "            try:\n",
    "                results[query_name] = future.result()\n",
    "            except Exception:\n",
    "                results[query_name] = []\n",
    "\n",
    "    return results\n"
   ]
  },
  {
   "cell_type": "code",
   "execution_count": 23,
   "metadata": {},
   "outputs": [
    {
     "name": "stdout",
     "output_type": "stream",
     "text": [
      "Fetching books for user 12345\n",
      "Fetching movies for user 12345\n",
      "Fetching songs for user 12345\n",
      "completed book fetch\n",
      "Processing future <Future at 0x18e724b5d50 state=finished returned list>\n",
      "completed movie fetch\n",
      "Processing future <Future at 0x18e724b5450 state=finished returned list>\n",
      "completed song fetch\n",
      "Processing future <Future at 0x18e724b78d0 state=finished returned list>\n",
      "{'books': ['Book1', 'Book2', 'Book3'], 'movies': ['Movie1', 'Movie2'], 'songs': ['Song1', 'Song2', 'Song3']}\n"
     ]
    }
   ],
   "source": [
    "user_id = \"12345\"\n",
    "print(fetch_all_data(user_id))"
   ]
  },
  {
   "cell_type": "code",
   "execution_count": 26,
   "metadata": {},
   "outputs": [
    {
     "name": "stdout",
     "output_type": "stream",
     "text": [
      "Fetching articles for user 12345\n",
      "Fetching posts for user 12345\n",
      "Fetching repositories for user 12345\n",
      "completed repository fetch\n",
      "completed article fetch\n",
      "completed post fetch\n"
     ]
    },
    {
     "data": {
      "text/plain": [
       "{'articles': ['Article1', 'Article2'],\n",
       " 'posts': ['Post1', 'Post2'],\n",
       " 'repositories': ['Repo1', 'Repo2']}"
      ]
     },
     "execution_count": 26,
     "metadata": {},
     "output_type": "execute_result"
    }
   ],
   "source": [
    "import asyncio\n",
    "\n",
    "async def fetch_articles(user_id):\n",
    "    print(f\"Fetching articles for user {user_id}\")\n",
    "    await asyncio.sleep(2)  # Simulate an async database call\n",
    "    print(\"completed article fetch\")\n",
    "    return [\"Article1\", \"Article2\"]\n",
    "\n",
    "async def fetch_posts(user_id):\n",
    "    print(f\"Fetching posts for user {user_id}\")\n",
    "    await asyncio.sleep(3)\n",
    "    print(\"completed post fetch\")\n",
    "    return [\"Post1\", \"Post2\"]\n",
    "\n",
    "async def fetch_repositories(user_id):\n",
    "    print(f\"Fetching repositories for user {user_id}\")\n",
    "    await asyncio.sleep(1)\n",
    "    print(\"completed repository fetch\")\n",
    "    return [\"Repo1\", \"Repo2\"]\n",
    "\n",
    "async def fetch_all_data(user_id):\n",
    "    tasks = {\n",
    "        \"articles\": fetch_articles(user_id),\n",
    "        \"posts\": fetch_posts(user_id),\n",
    "        \"repositories\": fetch_repositories(user_id),\n",
    "    }\n",
    "\n",
    "    results = await asyncio.gather(*tasks.values(), return_exceptions=True)\n",
    "    return dict(zip(tasks.keys(), results))\n",
    "\n",
    "# Run the function\n",
    "user_id = \"12345\"\n",
    "# print(asyncio.run(fetch_all_data(user_id)))\n",
    "await fetch_all_data(user_id)\n"
   ]
  },
  {
   "cell_type": "code",
   "execution_count": null,
   "metadata": {},
   "outputs": [],
   "source": []
  }
 ],
 "metadata": {
  "kernelspec": {
   "display_name": "rag",
   "language": "python",
   "name": "python3"
  },
  "language_info": {
   "codemirror_mode": {
    "name": "ipython",
    "version": 3
   },
   "file_extension": ".py",
   "mimetype": "text/x-python",
   "name": "python",
   "nbconvert_exporter": "python",
   "pygments_lexer": "ipython3",
   "version": "3.11.8"
  }
 },
 "nbformat": 4,
 "nbformat_minor": 2
}
